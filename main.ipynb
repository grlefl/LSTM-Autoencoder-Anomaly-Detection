{
 "cells": [
  {
   "cell_type": "markdown",
   "source": [
    "Coding Resources\n",
    "- https://github.com/sathishprasad/Detecting-Anomaly-in-ECG-Data-Using-AutoEncoder-with-PyTorch "
   ],
   "metadata": {
    "collapsed": false
   },
   "id": "be35abd1b7433c7c"
  },
  {
   "cell_type": "code",
   "outputs": [],
   "source": [],
   "metadata": {
    "collapsed": false
   },
   "id": "5d6d8ed80dc95f26"
  },
  {
   "cell_type": "markdown",
   "source": [
    "Get Data"
   ],
   "metadata": {
    "collapsed": false
   },
   "id": "217d5aa1ded73fb8"
  },
  {
   "cell_type": "code",
   "outputs": [],
   "source": [],
   "metadata": {
    "collapsed": false
   },
   "id": "6dbef7e29b103f86"
  },
  {
   "cell_type": "markdown",
   "source": [
    "Visualize Data "
   ],
   "metadata": {
    "collapsed": false
   },
   "id": "759b0b2d525c94ed"
  },
  {
   "cell_type": "code",
   "outputs": [],
   "source": [],
   "metadata": {
    "collapsed": false
   },
   "id": "87fe7041e94a397f"
  },
  {
   "cell_type": "markdown",
   "source": [
    "Data Split "
   ],
   "metadata": {
    "collapsed": false
   },
   "id": "13466318b55b3ccb"
  },
  {
   "cell_type": "code",
   "outputs": [],
   "source": [],
   "metadata": {
    "collapsed": false
   },
   "id": "62d4d65cfa117ab4"
  },
  {
   "cell_type": "markdown",
   "source": [
    "Dataset"
   ],
   "metadata": {
    "collapsed": false
   },
   "id": "ef7f131719a01d1f"
  },
  {
   "cell_type": "code",
   "outputs": [],
   "source": [],
   "metadata": {
    "collapsed": false
   },
   "id": "28cfa926448032e9"
  },
  {
   "cell_type": "markdown",
   "source": [
    "Model"
   ],
   "metadata": {
    "collapsed": false
   },
   "id": "cebaa09d56b97933"
  },
  {
   "cell_type": "code",
   "outputs": [],
   "source": [
    "device = torch.device(\"cuda\" if torch.cuda.is_available() else \"cpu\")\n",
    "model = Autoencoder(seq_len, n_features, 128)\n",
    "model = model.to(device)"
   ],
   "metadata": {
    "collapsed": false
   },
   "id": "6b9d31bc208306"
  },
  {
   "cell_type": "markdown",
   "source": [
    "Train "
   ],
   "metadata": {
    "collapsed": false
   },
   "id": "c520f90696134577"
  },
  {
   "cell_type": "code",
   "outputs": [],
   "source": [
    "save_path = '/content/best_model.pth'  # Replace with your actual path\n",
    "model, history = train_model(model, train_dataset, val_dataset, 100, save_path)"
   ],
   "metadata": {
    "collapsed": false
   },
   "id": "59c321344d8928a1"
  },
  {
   "cell_type": "markdown",
   "source": [
    "Test"
   ],
   "metadata": {
    "collapsed": false
   },
   "id": "61f29268b175c2a1"
  },
  {
   "cell_type": "code",
   "outputs": [],
   "source": [],
   "metadata": {
    "collapsed": false
   },
   "id": "de11000a02b8ef00"
  }
 ],
 "metadata": {
  "kernelspec": {
   "display_name": "Python 3",
   "language": "python",
   "name": "python3"
  },
  "language_info": {
   "codemirror_mode": {
    "name": "ipython",
    "version": 2
   },
   "file_extension": ".py",
   "mimetype": "text/x-python",
   "name": "python",
   "nbconvert_exporter": "python",
   "pygments_lexer": "ipython2",
   "version": "2.7.6"
  }
 },
 "nbformat": 4,
 "nbformat_minor": 5
}
